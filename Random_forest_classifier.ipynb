{
  "nbformat": 4,
  "nbformat_minor": 0,
  "metadata": {
    "colab": {
      "provenance": []
    },
    "kernelspec": {
      "name": "python3",
      "display_name": "Python 3"
    },
    "language_info": {
      "name": "python"
    }
  },
  "cells": [
    {
      "cell_type": "code",
      "execution_count": 2,
      "metadata": {
        "colab": {
          "base_uri": "https://localhost:8080/"
        },
        "id": "mM5b7hyb2Nuc",
        "outputId": "f8177c91-d0d0-41b4-92b7-45c5deb8cc98"
      },
      "outputs": [
        {
          "output_type": "stream",
          "name": "stdout",
          "text": [
            "                   Feature  Importance\n",
            "9           Sleep Disorder    0.526711\n",
            "2             BMI Category    0.108445\n",
            "8                      Age    0.087014\n",
            "7  Physical Activity Level    0.071629\n",
            "4           Sleep Duration    0.058711\n",
            "5               Heart Rate    0.041436\n",
            "1               Occupation    0.038633\n",
            "3             Stress Level    0.036925\n",
            "6         Quality of Sleep    0.024273\n",
            "0                   Gender    0.006223\n"
          ]
        }
      ],
      "source": [
        "import pandas as pd\n",
        "from sklearn.ensemble import RandomForestClassifier\n",
        "import matplotlib.pyplot as plt\n",
        "\n",
        "df = pd.read_csv('/content/sleeepp.csv')\n",
        "\n",
        "X = df.drop(['SBP', 'DBP'], axis=1)\n",
        "y = df['Sleep Disorder']\n",
        "\n",
        "from sklearn.model_selection import train_test_split\n",
        "X_train, X_test, y_train, y_test = train_test_split(X, y, test_size=0.2, random_state=42)\n",
        "\n",
        "rf_classifier = RandomForestClassifier(n_estimators=100, random_state=42)\n",
        "rf_classifier.fit(X_train, y_train)\n",
        "\n",
        "feature_importances = rf_classifier.feature_importances_\n",
        "\n",
        "feature_importance_df = pd.DataFrame({'Feature': X.columns, 'Importance': feature_importances})\n",
        "\n",
        "feature_importance_df = feature_importance_df.sort_values(by='Importance', ascending=False)\n",
        "\n",
        "print(feature_importance_df)"
      ]
    }
  ]
}