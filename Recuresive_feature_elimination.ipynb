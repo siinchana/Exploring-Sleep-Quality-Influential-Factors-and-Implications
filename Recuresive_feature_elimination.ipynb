{
  "nbformat": 4,
  "nbformat_minor": 0,
  "metadata": {
    "colab": {
      "provenance": []
    },
    "kernelspec": {
      "name": "python3",
      "display_name": "Python 3"
    },
    "language_info": {
      "name": "python"
    }
  },
  "cells": [
    {
      "cell_type": "code",
      "execution_count": 4,
      "metadata": {
        "colab": {
          "base_uri": "https://localhost:8080/"
        },
        "id": "DHY9by_c1otc",
        "outputId": "f4212c97-cb06-42d8-d369-accfb7cc6b5c"
      },
      "outputs": [
        {
          "output_type": "stream",
          "name": "stdout",
          "text": [
            "Selected Features: ['Occupation' 'Stress Level' 'Sleep Duration' 'Heart Rate' 'Age']\n",
            "Model Accuracy with Selected Features: 0.9733333333333334\n"
          ]
        },
        {
          "output_type": "stream",
          "name": "stderr",
          "text": [
            "/usr/local/lib/python3.10/dist-packages/sklearn/base.py:486: UserWarning: X has feature names, but RandomForestClassifier was fitted without feature names\n",
            "  warnings.warn(\n"
          ]
        }
      ],
      "source": [
        "import numpy as np\n",
        "import pandas as pd\n",
        "from sklearn.model_selection import train_test_split\n",
        "from sklearn.ensemble import RandomForestClassifier\n",
        "from sklearn.feature_selection import RFE\n",
        "\n",
        "\n",
        "df = pd.read_csv('/content/sleeepp.csv')\n",
        "\n",
        "# Assuming 'Quality_of_Sleep' is the target variable\n",
        "target_variable = 'Quality of Sleep'\n",
        "\n",
        "# Extract features (X) and target variable (y)\n",
        "X = df.drop(target_variable, axis=1)\n",
        "y = df[target_variable]\n",
        "\n",
        "# Split the dataset into training and testing sets\n",
        "X_train, X_test, y_train, y_test = train_test_split(X, y, test_size=0.2, random_state=42)\n",
        "\n",
        "# Create a RandomForestClassifier (you can choose a different classifier if needed)\n",
        "clf = RandomForestClassifier(n_estimators=100, random_state=42)\n",
        "\n",
        "# Number of features to select (you can adjust this based on your requirements)\n",
        "num_features_to_select = 5\n",
        "\n",
        "# Create RFE model\n",
        "rfe = RFE(estimator=clf, n_features_to_select=num_features_to_select)\n",
        "\n",
        "# Fit the RFE model and transform the training data\n",
        "X_train_rfe = rfe.fit_transform(X_train, y_train)\n",
        "\n",
        "# Print selected features\n",
        "selected_features = np.array(X.columns)[rfe.support_]\n",
        "print(\"Selected Features:\", selected_features)\n",
        "\n",
        "# Train and evaluate the model with the selected features\n",
        "clf.fit(X_train_rfe, y_train)\n",
        "accuracy = clf.score(X_test.iloc[:, rfe.support_], y_test)\n",
        "print(\"Model Accuracy with Selected Features:\", accuracy)"
      ]
    }
  ]
}